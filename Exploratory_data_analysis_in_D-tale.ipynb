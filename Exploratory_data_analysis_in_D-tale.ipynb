{
 "cells": [
  {
   "cell_type": "code",
   "execution_count": 1,
   "id": "8f16d952",
   "metadata": {},
   "outputs": [],
   "source": [
    "# ! pip install --user dtale"
   ]
  },
  {
   "cell_type": "code",
   "execution_count": 2,
   "id": "03579fb5",
   "metadata": {},
   "outputs": [
    {
     "name": "stderr",
     "output_type": "stream",
     "text": [
      "C:\\ProgramData\\Anaconda3\\lib\\site-packages\\scipy\\__init__.py:138: UserWarning: A NumPy version >=1.16.5 and <1.23.0 is required for this version of SciPy (detected version 1.24.4)\n",
      "  warnings.warn(f\"A NumPy version >={np_minversion} and <{np_maxversion} is required for this version of \"\n"
     ]
    }
   ],
   "source": [
    "# !pip install --upgrade pandas\n",
    "import pandas as pd\n",
    "import numpy as np\n",
    "import dtale"
   ]
  },
  {
   "cell_type": "markdown",
   "id": "84789663",
   "metadata": {},
   "source": [
    "## Walmart Sales Dataset\n",
    "data source: https://www.kaggle.com/datasets/varsharam/walmart-sales-dataset-of-45stores\n",
    "\n",
    "Walmart Sales Dataset has information about the Weekly Sales of 45 stores for the year 2010-2012, \n",
    "including the factors affectors affecting Sales such as Holidays, Temperature, Fuel Price, CPI, and Unemployment.\n",
    "\n",
    "Variable descriptions:\n",
    "1. Store: Store Numbers ranging from 1 to 45\n",
    "2. Date: The Week of Sales. It is in the format of dd-mm-yyyy, starting from 05-02-2010\n",
    "3. Weekly_Sales: The sales of the given store in the given week\n",
    "4. Holiday_Flag: If the week has a special Holiday or not. 1: The week has a Holiday 0: Fully working week\n",
    "5. Temperature: Average Temperature of the week of sales\n",
    "6. Fuel_Price: Price of the Fuel in the region of the given store\n",
    "7. CPI: Customer Price Index, viewd as an indicator of inflation, measuring the percentage change in the price of a basket of goods and services consumed by households\n",
    "8. Unemployment: Unemployment of the given store region"
   ]
  },
  {
   "cell_type": "code",
   "execution_count": 3,
   "id": "8c46033f",
   "metadata": {},
   "outputs": [
    {
     "data": {
      "text/html": [
       "<div>\n",
       "<style scoped>\n",
       "    .dataframe tbody tr th:only-of-type {\n",
       "        vertical-align: middle;\n",
       "    }\n",
       "\n",
       "    .dataframe tbody tr th {\n",
       "        vertical-align: top;\n",
       "    }\n",
       "\n",
       "    .dataframe thead th {\n",
       "        text-align: right;\n",
       "    }\n",
       "</style>\n",
       "<table border=\"1\" class=\"dataframe\">\n",
       "  <thead>\n",
       "    <tr style=\"text-align: right;\">\n",
       "      <th></th>\n",
       "      <th>Store</th>\n",
       "      <th>Date</th>\n",
       "      <th>Weekly_Sales</th>\n",
       "      <th>Holiday_Flag</th>\n",
       "      <th>Temperature</th>\n",
       "      <th>Fuel_Price</th>\n",
       "      <th>CPI</th>\n",
       "      <th>Unemployment</th>\n",
       "    </tr>\n",
       "  </thead>\n",
       "  <tbody>\n",
       "    <tr>\n",
       "      <th>0</th>\n",
       "      <td>1</td>\n",
       "      <td>05-02-2010</td>\n",
       "      <td>1643690.90</td>\n",
       "      <td>0</td>\n",
       "      <td>42.31</td>\n",
       "      <td>2.572</td>\n",
       "      <td>211.096358</td>\n",
       "      <td>8.106</td>\n",
       "    </tr>\n",
       "    <tr>\n",
       "      <th>1</th>\n",
       "      <td>1</td>\n",
       "      <td>12-02-2010</td>\n",
       "      <td>1641957.44</td>\n",
       "      <td>1</td>\n",
       "      <td>38.51</td>\n",
       "      <td>2.548</td>\n",
       "      <td>211.242170</td>\n",
       "      <td>8.106</td>\n",
       "    </tr>\n",
       "    <tr>\n",
       "      <th>2</th>\n",
       "      <td>1</td>\n",
       "      <td>19-02-2010</td>\n",
       "      <td>1611968.17</td>\n",
       "      <td>0</td>\n",
       "      <td>39.93</td>\n",
       "      <td>2.514</td>\n",
       "      <td>211.289143</td>\n",
       "      <td>8.106</td>\n",
       "    </tr>\n",
       "    <tr>\n",
       "      <th>3</th>\n",
       "      <td>1</td>\n",
       "      <td>26-02-2010</td>\n",
       "      <td>1409727.59</td>\n",
       "      <td>0</td>\n",
       "      <td>46.63</td>\n",
       "      <td>2.561</td>\n",
       "      <td>211.319643</td>\n",
       "      <td>8.106</td>\n",
       "    </tr>\n",
       "    <tr>\n",
       "      <th>4</th>\n",
       "      <td>1</td>\n",
       "      <td>05-03-2010</td>\n",
       "      <td>1554806.68</td>\n",
       "      <td>0</td>\n",
       "      <td>46.50</td>\n",
       "      <td>2.625</td>\n",
       "      <td>211.350143</td>\n",
       "      <td>8.106</td>\n",
       "    </tr>\n",
       "  </tbody>\n",
       "</table>\n",
       "</div>"
      ],
      "text/plain": [
       "   Store        Date  Weekly_Sales  Holiday_Flag  Temperature  Fuel_Price  \\\n",
       "0      1  05-02-2010    1643690.90             0        42.31       2.572   \n",
       "1      1  12-02-2010    1641957.44             1        38.51       2.548   \n",
       "2      1  19-02-2010    1611968.17             0        39.93       2.514   \n",
       "3      1  26-02-2010    1409727.59             0        46.63       2.561   \n",
       "4      1  05-03-2010    1554806.68             0        46.50       2.625   \n",
       "\n",
       "          CPI  Unemployment  \n",
       "0  211.096358         8.106  \n",
       "1  211.242170         8.106  \n",
       "2  211.289143         8.106  \n",
       "3  211.319643         8.106  \n",
       "4  211.350143         8.106  "
      ]
     },
     "execution_count": 3,
     "metadata": {},
     "output_type": "execute_result"
    }
   ],
   "source": [
    "w = pd.DataFrame(pd.read_csv('C:/Users/Yvonne/Desktop/UMN Courses/6311/trendmarketplace/walmart-sales-dataset-of-45stores.csv'))\n",
    "w.head()"
   ]
  },
  {
   "cell_type": "code",
   "execution_count": 4,
   "id": "e12d7f4a",
   "metadata": {
    "scrolled": true
   },
   "outputs": [
    {
     "data": {
      "text/html": [
       "\n",
       "        <iframe\n",
       "            width=\"100%\"\n",
       "            height=\"475\"\n",
       "            src=\"http://MSI:40000/dtale/iframe/1\"\n",
       "            frameborder=\"0\"\n",
       "            allowfullscreen\n",
       "        ></iframe>\n",
       "        "
      ],
      "text/plain": [
       "<IPython.lib.display.IFrame at 0x1899445ed60>"
      ]
     },
     "metadata": {},
     "output_type": "display_data"
    },
    {
     "data": {
      "text/plain": []
     },
     "execution_count": 4,
     "metadata": {},
     "output_type": "execute_result"
    }
   ],
   "source": [
    "dtale.show(w)"
   ]
  },
  {
   "cell_type": "markdown",
   "id": "5cb2f99a",
   "metadata": {},
   "source": [
    "## Youtube Statistics\n",
    "data source: https://www.kaggle.com/datasets/advaypatil/youtube-statistics\n",
    "\n",
    "Contains 2 files(comments, videos-stats)for analyzing the relationship between the popularity of a certain video\n",
    "and the most relevant/liked comments of said video.\n",
    "\n",
    "Before the analysis, we combined the 2 datasets by Video ID.\n",
    "\n",
    "Variable descriptions:\n",
    "1. Title: Video Title\n",
    "2. Video ID: The Video Identifier\n",
    "3. Published At: The date the video was published in YYYY-MM-DD\n",
    "4. Keyword: The keyword associated with the video\n",
    "5. Likes.for.video: The number of likes the video received. If this value is -1, the likes are not publicly visible\n",
    "6. Comments: The number of comments the video has. If this value is -1, the video creator has disabled comments\n",
    "7. Video.views: The number of views the video got\n",
    "8. Comment: Partial comment texts\n",
    "9. Likes.for.comment: The number of likes the comment received\n",
    "10. Sentiment: The sentiment of the comment. 0: negative sentiment; 1: neutral; 2: positive"
   ]
  },
  {
   "cell_type": "code",
   "execution_count": 5,
   "id": "f2f6e509",
   "metadata": {},
   "outputs": [
    {
     "data": {
      "text/html": [
       "<div>\n",
       "<style scoped>\n",
       "    .dataframe tbody tr th:only-of-type {\n",
       "        vertical-align: middle;\n",
       "    }\n",
       "\n",
       "    .dataframe tbody tr th {\n",
       "        vertical-align: top;\n",
       "    }\n",
       "\n",
       "    .dataframe thead th {\n",
       "        text-align: right;\n",
       "    }\n",
       "</style>\n",
       "<table border=\"1\" class=\"dataframe\">\n",
       "  <thead>\n",
       "    <tr style=\"text-align: right;\">\n",
       "      <th></th>\n",
       "      <th>Title</th>\n",
       "      <th>Video.ID</th>\n",
       "      <th>Published.At</th>\n",
       "      <th>Keyword</th>\n",
       "      <th>Likes.for.video</th>\n",
       "      <th>Comments</th>\n",
       "      <th>Video.views</th>\n",
       "      <th>Comment</th>\n",
       "      <th>Likes.for.comment</th>\n",
       "      <th>Sentiment</th>\n",
       "    </tr>\n",
       "  </thead>\n",
       "  <tbody>\n",
       "    <tr>\n",
       "      <th>0</th>\n",
       "      <td>Apple Pay Is Killing the Physical Wallet After...</td>\n",
       "      <td>wAZZ-UWGVHI</td>\n",
       "      <td>2022/8/23</td>\n",
       "      <td>tech</td>\n",
       "      <td>3407</td>\n",
       "      <td>672.0</td>\n",
       "      <td>135612.0</td>\n",
       "      <td>Let's not forget that Apple Pay in 2014 requir...</td>\n",
       "      <td>95</td>\n",
       "      <td>1</td>\n",
       "    </tr>\n",
       "    <tr>\n",
       "      <th>1</th>\n",
       "      <td>Apple Pay Is Killing the Physical Wallet After...</td>\n",
       "      <td>wAZZ-UWGVHI</td>\n",
       "      <td>2022/8/23</td>\n",
       "      <td>tech</td>\n",
       "      <td>3407</td>\n",
       "      <td>672.0</td>\n",
       "      <td>135612.0</td>\n",
       "      <td>Here in NZ 50% of retailers don?�t even have c...</td>\n",
       "      <td>19</td>\n",
       "      <td>0</td>\n",
       "    </tr>\n",
       "    <tr>\n",
       "      <th>2</th>\n",
       "      <td>Apple Pay Is Killing the Physical Wallet After...</td>\n",
       "      <td>wAZZ-UWGVHI</td>\n",
       "      <td>2022/8/23</td>\n",
       "      <td>tech</td>\n",
       "      <td>3407</td>\n",
       "      <td>672.0</td>\n",
       "      <td>135612.0</td>\n",
       "      <td>I will forever acknowledge this channel with t...</td>\n",
       "      <td>161</td>\n",
       "      <td>2</td>\n",
       "    </tr>\n",
       "    <tr>\n",
       "      <th>3</th>\n",
       "      <td>Apple Pay Is Killing the Physical Wallet After...</td>\n",
       "      <td>wAZZ-UWGVHI</td>\n",
       "      <td>2022/8/23</td>\n",
       "      <td>tech</td>\n",
       "      <td>3407</td>\n",
       "      <td>672.0</td>\n",
       "      <td>135612.0</td>\n",
       "      <td>Whenever I go to a place that doesn?�t take Ap...</td>\n",
       "      <td>8</td>\n",
       "      <td>0</td>\n",
       "    </tr>\n",
       "    <tr>\n",
       "      <th>4</th>\n",
       "      <td>Apple Pay Is Killing the Physical Wallet After...</td>\n",
       "      <td>wAZZ-UWGVHI</td>\n",
       "      <td>2022/8/23</td>\n",
       "      <td>tech</td>\n",
       "      <td>3407</td>\n",
       "      <td>672.0</td>\n",
       "      <td>135612.0</td>\n",
       "      <td>Apple Pay is so convenient, secure, and easy t...</td>\n",
       "      <td>34</td>\n",
       "      <td>2</td>\n",
       "    </tr>\n",
       "  </tbody>\n",
       "</table>\n",
       "</div>"
      ],
      "text/plain": [
       "                                               Title     Video.ID  \\\n",
       "0  Apple Pay Is Killing the Physical Wallet After...  wAZZ-UWGVHI   \n",
       "1  Apple Pay Is Killing the Physical Wallet After...  wAZZ-UWGVHI   \n",
       "2  Apple Pay Is Killing the Physical Wallet After...  wAZZ-UWGVHI   \n",
       "3  Apple Pay Is Killing the Physical Wallet After...  wAZZ-UWGVHI   \n",
       "4  Apple Pay Is Killing the Physical Wallet After...  wAZZ-UWGVHI   \n",
       "\n",
       "  Published.At Keyword Likes.for.video  Comments  Video.views  \\\n",
       "0    2022/8/23    tech            3407     672.0     135612.0   \n",
       "1    2022/8/23    tech            3407     672.0     135612.0   \n",
       "2    2022/8/23    tech            3407     672.0     135612.0   \n",
       "3    2022/8/23    tech            3407     672.0     135612.0   \n",
       "4    2022/8/23    tech            3407     672.0     135612.0   \n",
       "\n",
       "                                             Comment Likes.for.comment  \\\n",
       "0  Let's not forget that Apple Pay in 2014 requir...                95   \n",
       "1  Here in NZ 50% of retailers don?�t even have c...                19   \n",
       "2  I will forever acknowledge this channel with t...               161   \n",
       "3  Whenever I go to a place that doesn?�t take Ap...                 8   \n",
       "4  Apple Pay is so convenient, secure, and easy t...                34   \n",
       "\n",
       "  Sentiment  \n",
       "0         1  \n",
       "1         0  \n",
       "2         2  \n",
       "3         0  \n",
       "4         2  "
      ]
     },
     "execution_count": 5,
     "metadata": {},
     "output_type": "execute_result"
    }
   ],
   "source": [
    "y = pd.DataFrame(pd.read_csv('C:/Users/Yvonne/Desktop/UMN Courses/6311/trendmarketplace/combined_youtube.csv'))\n",
    "y.head()"
   ]
  },
  {
   "cell_type": "code",
   "execution_count": 6,
   "id": "bb9bd451",
   "metadata": {
    "scrolled": true
   },
   "outputs": [
    {
     "data": {
      "text/html": [
       "\n",
       "        <iframe\n",
       "            width=\"100%\"\n",
       "            height=\"475\"\n",
       "            src=\"http://MSI:40000/dtale/iframe/2\"\n",
       "            frameborder=\"0\"\n",
       "            allowfullscreen\n",
       "        ></iframe>\n",
       "        "
      ],
      "text/plain": [
       "<IPython.lib.display.IFrame at 0x1898e583a60>"
      ]
     },
     "metadata": {},
     "output_type": "display_data"
    },
    {
     "data": {
      "text/plain": []
     },
     "execution_count": 6,
     "metadata": {},
     "output_type": "execute_result"
    }
   ],
   "source": [
    "dtale.show(y)"
   ]
  }
 ],
 "metadata": {
  "kernelspec": {
   "display_name": "Python 3",
   "language": "python",
   "name": "python3"
  },
  "language_info": {
   "codemirror_mode": {
    "name": "ipython",
    "version": 3
   },
   "file_extension": ".py",
   "mimetype": "text/x-python",
   "name": "python",
   "nbconvert_exporter": "python",
   "pygments_lexer": "ipython3",
   "version": "3.8.8"
  }
 },
 "nbformat": 4,
 "nbformat_minor": 5
}
